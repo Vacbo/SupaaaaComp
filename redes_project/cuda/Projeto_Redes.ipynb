{
  "nbformat": 4,
  "nbformat_minor": 0,
  "metadata": {
    "colab": {
      "provenance": [],
      "gpuType": "T4"
    },
    "kernelspec": {
      "name": "python3",
      "display_name": "Python 3"
    },
    "language_info": {
      "name": "python"
    },
    "accelerator": "GPU"
  },
  "cells": [
    {
      "cell_type": "code",
      "execution_count": 1,
      "metadata": {
        "colab": {
          "base_uri": "https://localhost:8080/"
        },
        "id": "VpWuBALqJucH",
        "outputId": "2a864285-04f6-40b9-dd76-b6343212f658"
      },
      "outputs": [
        {
          "output_type": "stream",
          "name": "stdout",
          "text": [
            "Thu Dec  5 21:27:03 2024       \n",
            "+---------------------------------------------------------------------------------------+\n",
            "| NVIDIA-SMI 535.104.05             Driver Version: 535.104.05   CUDA Version: 12.2     |\n",
            "|-----------------------------------------+----------------------+----------------------+\n",
            "| GPU  Name                 Persistence-M | Bus-Id        Disp.A | Volatile Uncorr. ECC |\n",
            "| Fan  Temp   Perf          Pwr:Usage/Cap |         Memory-Usage | GPU-Util  Compute M. |\n",
            "|                                         |                      |               MIG M. |\n",
            "|=========================================+======================+======================|\n",
            "|   0  Tesla T4                       Off | 00000000:00:04.0 Off |                    0 |\n",
            "| N/A   48C    P8              10W /  70W |      0MiB / 15360MiB |      0%      Default |\n",
            "|                                         |                      |                  N/A |\n",
            "+-----------------------------------------+----------------------+----------------------+\n",
            "                                                                                         \n",
            "+---------------------------------------------------------------------------------------+\n",
            "| Processes:                                                                            |\n",
            "|  GPU   GI   CI        PID   Type   Process name                            GPU Memory |\n",
            "|        ID   ID                                                             Usage      |\n",
            "|=======================================================================================|\n",
            "|  No running processes found                                                           |\n",
            "+---------------------------------------------------------------------------------------+\n"
          ]
        }
      ],
      "source": [
        "!nvidia-smi"
      ]
    },
    {
      "cell_type": "code",
      "source": [
        "%%writefile maximum_clique_cuda.cu\n",
        "#include <iostream>\n",
        "#include <vector>\n",
        "#include <fstream>\n",
        "#include <chrono>\n",
        "#include <iomanip>\n",
        "#include <cuda_runtime.h>\n",
        "\n",
        "using namespace std;\n",
        "using namespace std::chrono;\n",
        "\n",
        "// CUDA error checking\n",
        "#define CHECK_CUDA(call) do { \\\n",
        "    cudaError_t e = (call); \\\n",
        "    if(e != cudaSuccess) { \\\n",
        "        cerr << \"CUDA Error: \" << cudaGetErrorString(e) << \" at \" << __FILE__ << \":\" << __LINE__ << \"\\n\"; \\\n",
        "        exit(EXIT_FAILURE); \\\n",
        "    } \\\n",
        "} while(0)\n",
        "\n",
        "// CUDA kernel to check if a vertex i is connected to all vertices in currentClique\n",
        "__global__ void canAddVertexKernel(const int* d_graph, int numVertices,\n",
        "                                   const int* d_currentClique, int cliqueSize, int newVertex,\n",
        "                                   int* d_result) {\n",
        "    // Each thread checks one vertex in the currentClique\n",
        "    int idx = threadIdx.x;\n",
        "    if (idx < cliqueSize) {\n",
        "        int v = d_currentClique[idx];\n",
        "        // d_graph[u * numVertices + v] indicates connectivity between u and v\n",
        "        // Check if newVertex is connected to currentClique[idx]\n",
        "        if (d_graph[newVertex * numVertices + v] == 0) {\n",
        "            // If not connected, mark result as 0\n",
        "            atomicExch(d_result, 0);\n",
        "        }\n",
        "    }\n",
        "}\n",
        "\n",
        "// Helper function that launches the kernel and returns boolean result\n",
        "bool canAddVertex(const int* d_graph, int numVertices,\n",
        "                  const vector<int>& currentClique, int newVertex) {\n",
        "    int cliqueSize = (int)currentClique.size();\n",
        "    if (cliqueSize == 0) return true; // If no vertices in clique, always can add\n",
        "\n",
        "    // Copy currentClique to device\n",
        "    int* d_currentClique;\n",
        "    CHECK_CUDA(cudaMalloc((void**)&d_currentClique, cliqueSize * sizeof(int)));\n",
        "    CHECK_CUDA(cudaMemcpy(d_currentClique, currentClique.data(), cliqueSize * sizeof(int), cudaMemcpyHostToDevice));\n",
        "\n",
        "    // result on device\n",
        "    int* d_result;\n",
        "    CHECK_CUDA(cudaMalloc((void**)&d_result, sizeof(int)));\n",
        "    int initial_result = 1;\n",
        "    CHECK_CUDA(cudaMemcpy(d_result, &initial_result, sizeof(int), cudaMemcpyHostToDevice));\n",
        "\n",
        "    // Launch kernel: one block, cliqueSize threads\n",
        "    canAddVertexKernel<<<1, cliqueSize>>>(d_graph, numVertices, d_currentClique, cliqueSize, newVertex, d_result);\n",
        "    CHECK_CUDA(cudaDeviceSynchronize());\n",
        "\n",
        "    // Copy result back\n",
        "    int host_result;\n",
        "    CHECK_CUDA(cudaMemcpy(&host_result, d_result, sizeof(int), cudaMemcpyDeviceToHost));\n",
        "\n",
        "    // Free device memory\n",
        "    CHECK_CUDA(cudaFree(d_currentClique));\n",
        "    CHECK_CUDA(cudaFree(d_result));\n",
        "\n",
        "    return (host_result == 1);\n",
        "}\n",
        "\n",
        "vector<vector<int>> readGraph(const string& filename, int& numVertices) {\n",
        "    ifstream file(filename);\n",
        "    if (!file) {\n",
        "        cerr << \"Error: Cannot open the file at \" << filename << endl;\n",
        "        exit(1);\n",
        "    }\n",
        "\n",
        "    int numEdges;\n",
        "    file >> numVertices >> numEdges;\n",
        "\n",
        "    vector<vector<int>> graph(numVertices, vector<int>(numVertices, 0));\n",
        "    for (int i = 0; i < numEdges; ++i) {\n",
        "        int u, v;\n",
        "        file >> u >> v;\n",
        "        u -= 1;\n",
        "        v -= 1;\n",
        "        graph[u][v] = 1;\n",
        "        graph[v][u] = 1;\n",
        "    }\n",
        "\n",
        "    return graph;\n",
        "}\n",
        "\n",
        "// Exhaustive clique search with pruning, using GPU to check connectivity.\n",
        "void findCliquesGPU(const int* d_graph, int numVertices, vector<int>& currentClique,\n",
        "                    vector<int>& maxClique, int start) {\n",
        "    // Pruning\n",
        "    if ((int)currentClique.size() > (int)maxClique.size()) {\n",
        "        maxClique = currentClique;\n",
        "    }\n",
        "\n",
        "    // Another simple pruning:\n",
        "    // If even adding all remaining vertices won't exceed the maxClique size, stop\n",
        "    if ((int)currentClique.size() + (numVertices - start) <= (int)maxClique.size()) {\n",
        "        return;\n",
        "    }\n",
        "\n",
        "    for (int i = start; i < numVertices; ++i) {\n",
        "        if ((int)currentClique.size() + (numVertices - i) <= (int)maxClique.size()) {\n",
        "            break; // no chance of improvement\n",
        "        }\n",
        "\n",
        "        // Use GPU to check if we can add vertex i\n",
        "        if (canAddVertex(d_graph, numVertices, currentClique, i)) {\n",
        "            currentClique.push_back(i);\n",
        "            findCliquesGPU(d_graph, numVertices, currentClique, maxClique, i + 1);\n",
        "            currentClique.pop_back();\n",
        "        }\n",
        "    }\n",
        "}\n",
        "\n",
        "int main(int argc, char** argv) {\n",
        "    if (argc < 2) {\n",
        "        cerr << \"Usage: \" << argv[0] << \" <path_to_graph_file>\" << endl;\n",
        "        return 1;\n",
        "    }\n",
        "\n",
        "    string filename = argv[1];\n",
        "    int numVertices;\n",
        "    vector<vector<int>> graph = readGraph(filename, numVertices);\n",
        "\n",
        "    // Flatten the graph for GPU\n",
        "    vector<int> flatGraph(numVertices * numVertices);\n",
        "    for (int i = 0; i < numVertices; ++i) {\n",
        "        for (int j = 0; j < numVertices; ++j) {\n",
        "            flatGraph[i * numVertices + j] = graph[i][j];\n",
        "        }\n",
        "    }\n",
        "\n",
        "    int* d_graph;\n",
        "    CHECK_CUDA(cudaMalloc((void**)&d_graph, numVertices * numVertices * sizeof(int)));\n",
        "    CHECK_CUDA(cudaMemcpy(d_graph, flatGraph.data(), numVertices * numVertices * sizeof(int), cudaMemcpyHostToDevice));\n",
        "\n",
        "    auto startTime = high_resolution_clock::now();\n",
        "\n",
        "    vector<int> maxClique;\n",
        "    vector<int> currentClique;\n",
        "\n",
        "    // Start exhaustive search\n",
        "    findCliquesGPU(d_graph, numVertices, currentClique, maxClique, 0);\n",
        "\n",
        "    auto endTime = high_resolution_clock::now();\n",
        "    duration<double> duration = endTime - startTime;\n",
        "\n",
        "    cout << \"Maximum Clique Size: \" << maxClique.size() << endl;\n",
        "    cout << \"Maximum Clique Nodes: \";\n",
        "    for (int v : maxClique) {\n",
        "        cout << (v + 1) << \" \";\n",
        "    }\n",
        "    cout << endl;\n",
        "    cout << \"Time taken: \" << fixed << setprecision(6) << duration.count() << \" seconds\" << endl;\n",
        "\n",
        "    CHECK_CUDA(cudaFree(d_graph));\n",
        "\n",
        "    return 0;\n",
        "}\n"
      ],
      "metadata": {
        "colab": {
          "base_uri": "https://localhost:8080/"
        },
        "id": "cR8QQ_c0KYSj",
        "outputId": "4455e7c0-33f8-4a76-ef12-c22dae5227cc"
      },
      "execution_count": 2,
      "outputs": [
        {
          "output_type": "stream",
          "name": "stdout",
          "text": [
            "Writing maximum_clique_cuda.cu\n"
          ]
        }
      ]
    },
    {
      "cell_type": "code",
      "source": [
        "!nvcc -arch=sm_75 -std=c++14 maximum_clique_cuda.cu -o maximum_clique_cuda"
      ],
      "metadata": {
        "id": "r3IMuUSWKZ_r"
      },
      "execution_count": 3,
      "outputs": []
    },
    {
      "cell_type": "code",
      "source": [
        "!./maximum_clique_cuda /home/graphs/grafo_50.txt"
      ],
      "metadata": {
        "colab": {
          "base_uri": "https://localhost:8080/"
        },
        "id": "MmUM2CLlKb4x",
        "outputId": "901ecf10-8157-400b-866d-698ca75960d8"
      },
      "execution_count": 5,
      "outputs": [
        {
          "output_type": "stream",
          "name": "stdout",
          "text": [
            "Maximum Clique Size: 12\n",
            "Maximum Clique Nodes: 1 3 5 10 14 18 25 28 32 37 40 49 \n",
            "Time taken: 19.855571 seconds\n"
          ]
        }
      ]
    }
  ]
}