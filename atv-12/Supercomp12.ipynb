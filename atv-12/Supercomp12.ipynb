{
  "nbformat": 4,
  "nbformat_minor": 0,
  "metadata": {
    "colab": {
      "provenance": [],
      "gpuType": "T4"
    },
    "kernelspec": {
      "name": "python3",
      "display_name": "Python 3"
    },
    "language_info": {
      "name": "python"
    },
    "accelerator": "GPU"
  },
  "cells": [
    {
      "cell_type": "code",
      "execution_count": 1,
      "metadata": {
        "colab": {
          "base_uri": "https://localhost:8080/"
        },
        "id": "Vx7hvIb7UQEP",
        "outputId": "ef511bdf-bfb8-439f-e9b8-89b9dc35104e"
      },
      "outputs": [
        {
          "output_type": "stream",
          "name": "stdout",
          "text": [
            "Fri Sep 20 12:28:26 2024       \n",
            "+---------------------------------------------------------------------------------------+\n",
            "| NVIDIA-SMI 535.104.05             Driver Version: 535.104.05   CUDA Version: 12.2     |\n",
            "|-----------------------------------------+----------------------+----------------------+\n",
            "| GPU  Name                 Persistence-M | Bus-Id        Disp.A | Volatile Uncorr. ECC |\n",
            "| Fan  Temp   Perf          Pwr:Usage/Cap |         Memory-Usage | GPU-Util  Compute M. |\n",
            "|                                         |                      |               MIG M. |\n",
            "|=========================================+======================+======================|\n",
            "|   0  Tesla T4                       Off | 00000000:00:04.0 Off |                    0 |\n",
            "| N/A   42C    P8               9W /  70W |      0MiB / 15360MiB |      0%      Default |\n",
            "|                                         |                      |                  N/A |\n",
            "+-----------------------------------------+----------------------+----------------------+\n",
            "                                                                                         \n",
            "+---------------------------------------------------------------------------------------+\n",
            "| Processes:                                                                            |\n",
            "|  GPU   GI   CI        PID   Type   Process name                            GPU Memory |\n",
            "|        ID   ID                                                             Usage      |\n",
            "|=======================================================================================|\n",
            "|  No running processes found                                                           |\n",
            "+---------------------------------------------------------------------------------------+\n"
          ]
        }
      ],
      "source": [
        "!nvidia-smi"
      ]
    },
    {
      "cell_type": "code",
      "source": [
        "%%writefile magnitude_tr.cu\n",
        " #include <thrust/device_vector.h>\n",
        "#include <thrust/host_vector.h>\n",
        "#include <thrust/transform_reduce.h>\n",
        "#include <thrust/functional.h>\n",
        "#include <cmath>\n",
        "#include <iostream>\n",
        "#include <chrono>\n",
        "\n",
        "// Functor to square the values\n",
        "struct square {\n",
        "    __host__ __device__\n",
        "    double operator()(const double& x) const {\n",
        "        return x * x;\n",
        "    }\n",
        "};\n",
        "\n",
        "int main() {\n",
        "    const int n = 10000000;\n",
        "    double value = 0.0;\n",
        "\n",
        "    // Host vector\n",
        "    thrust::host_vector<double> google_host(n);\n",
        "    for (int i = 0; i < n; i++) {\n",
        "        std::cin >> value;\n",
        "        google_host[i] = value;\n",
        "    }\n",
        "\n",
        "    // Transfer to device\n",
        "    thrust::device_vector<double> google_device = google_host;\n",
        "\n",
        "    auto start = std::chrono::high_resolution_clock::now();\n",
        "\n",
        "    // Use transform_reduce to calculate the sum of squares\n",
        "    double sum_of_squares = thrust::transform_reduce(google_device.begin(), google_device.end(), square(), 0.0, thrust::plus<double>());\n",
        "\n",
        "    // Compute magnitude as the square root of the sum of squares\n",
        "    double magnitude = std::sqrt(sum_of_squares);\n",
        "\n",
        "    auto end = std::chrono::high_resolution_clock::now();\n",
        "    std::chrono::duration<double> elapsed_time = end - start;\n",
        "\n",
        "    std::cout << \"Magnitude (using transform_reduce): \" << magnitude << std::endl;\n",
        "    std::cout << \"Elapsed time: \" << elapsed_time.count() << \" seconds\" << std::endl;\n",
        "\n",
        "    return 0;\n",
        "}\n"
      ],
      "metadata": {
        "colab": {
          "base_uri": "https://localhost:8080/"
        },
        "id": "i2bQbCzAYgMd",
        "outputId": "d9701ed8-2008-4b6d-ca09-84ee9ffe1597"
      },
      "execution_count": 4,
      "outputs": [
        {
          "output_type": "stream",
          "name": "stdout",
          "text": [
            "Overwriting magnitude_tr.cu\n"
          ]
        }
      ]
    },
    {
      "cell_type": "code",
      "source": [
        "!nvcc -arch=sm_70 -std=c++14 magnitude_tr.cu -o magnitude_tr"
      ],
      "metadata": {
        "id": "YzpQTaY9YasY"
      },
      "execution_count": 6,
      "outputs": []
    },
    {
      "cell_type": "code",
      "source": [
        "!./magnitude_tr < random_vector.txt"
      ],
      "metadata": {
        "colab": {
          "base_uri": "https://localhost:8080/"
        },
        "id": "cBGEwPAvYc-_",
        "outputId": "2fa30233-2076-4c07-ab34-1fbec0cec1a3"
      },
      "execution_count": 11,
      "outputs": [
        {
          "output_type": "stream",
          "name": "stdout",
          "text": [
            "Magnitude (using transform_reduce): 1825.44\n",
            "Elapsed time: 0.00103498 seconds\n"
          ]
        }
      ]
    },
    {
      "cell_type": "code",
      "source": [
        "%%writefile magnitude_t_then_r.cu\n",
        "#include <thrust/device_vector.h>\n",
        "#include <thrust/host_vector.h>\n",
        "#include <thrust/transform.h>\n",
        "#include <thrust/reduce.h>\n",
        "#include <cmath>\n",
        "#include <iostream>\n",
        "#include <chrono>\n",
        "\n",
        "// Functor to square the values\n",
        "struct square {\n",
        "    __host__ __device__\n",
        "    double operator()(const double& x) const {\n",
        "        return x * x;\n",
        "    }\n",
        "};\n",
        "\n",
        "int main() {\n",
        "    const int n = 10000000;\n",
        "    double value = 0.0;\n",
        "\n",
        "    // Host vector\n",
        "    thrust::host_vector<double> google_host(n);\n",
        "    for (int i = 0; i < n; i++) {\n",
        "        std::cin >> value;\n",
        "        google_host[i] = value;\n",
        "    }\n",
        "\n",
        "    // Transfer to device\n",
        "    thrust::device_vector<double> google_device = google_host;\n",
        "    thrust::device_vector<double> squared_elements(n);\n",
        "\n",
        "    auto start = std::chrono::high_resolution_clock::now();\n",
        "\n",
        "    // Step 1: Square each element\n",
        "    thrust::transform(google_device.begin(), google_device.end(), squared_elements.begin(), square());\n",
        "\n",
        "    // Step 2: Sum the squared elements\n",
        "    double sum_of_squares = thrust::reduce(squared_elements.begin(), squared_elements.end(), 0.0, thrust::plus<double>());\n",
        "\n",
        "    // Step 3: Compute the magnitude\n",
        "    double magnitude = std::sqrt(sum_of_squares);\n",
        "\n",
        "    auto end = std::chrono::high_resolution_clock::now();\n",
        "    std::chrono::duration<double> elapsed_time = end - start;\n",
        "\n",
        "    std::cout << \"Magnitude (using separate operations): \" << magnitude << std::endl;\n",
        "    std::cout << \"Elapsed time: \" << elapsed_time.count() << \" seconds\" << std::endl;\n",
        "\n",
        "    return 0;\n",
        "}"
      ],
      "metadata": {
        "colab": {
          "base_uri": "https://localhost:8080/"
        },
        "id": "5km54RhHY2mW",
        "outputId": "a7b6825d-c79c-4c64-9d60-58a100cd0d5c"
      },
      "execution_count": 8,
      "outputs": [
        {
          "output_type": "stream",
          "name": "stdout",
          "text": [
            "Writing magnitude_t_then_r.cu\n"
          ]
        }
      ]
    },
    {
      "cell_type": "code",
      "source": [
        "!nvcc -arch=sm_70 -std=c++14 magnitude_t_then_r.cu -o magnitude_t_then_r"
      ],
      "metadata": {
        "id": "1MtCSa-KY29h"
      },
      "execution_count": 9,
      "outputs": []
    },
    {
      "cell_type": "code",
      "source": [
        "!./magnitude_t_then_r < random_vector.txt"
      ],
      "metadata": {
        "colab": {
          "base_uri": "https://localhost:8080/"
        },
        "id": "3wIOXhqCZMWT",
        "outputId": "d679b267-7853-4f07-fba8-70669c80bb89"
      },
      "execution_count": 12,
      "outputs": [
        {
          "output_type": "stream",
          "name": "stdout",
          "text": [
            "Magnitude (using separate operations): 1825.44\n",
            "Elapsed time: 0.00129333 seconds\n"
          ]
        }
      ]
    },
    {
      "cell_type": "code",
      "source": [
        "%%writefile variance_tr.cu\n",
        "#include <thrust/device_vector.h>\n",
        "#include <thrust/host_vector.h>\n",
        "#include <thrust/transform_reduce.h>\n",
        "#include <thrust/functional.h>\n",
        "#include <iostream>\n",
        "#include <chrono>\n",
        "\n",
        "// Functor to compute squared difference from mean\n",
        "struct square_diff_from_mean {\n",
        "    double mean;\n",
        "    square_diff_from_mean(double _mean) : mean(_mean) {}\n",
        "\n",
        "    __host__ __device__\n",
        "    double operator()(const double& x) const {\n",
        "        double diff = x - mean;\n",
        "        return diff * diff;\n",
        "    }\n",
        "};\n",
        "\n",
        "int main() {\n",
        "    const int n = 10000000;\n",
        "    double value = 0.0;\n",
        "\n",
        "    thrust::host_vector<double> google_host(n);\n",
        "    for (int i = 0; i < n; i++) {\n",
        "        std::cin >> value;\n",
        "        google_host[i] = value;\n",
        "    }\n",
        "\n",
        "    thrust::device_vector<double> google_device = google_host;\n",
        "\n",
        "    auto start = std::chrono::high_resolution_clock::now();\n",
        "\n",
        "    // Calculate the sum of elements\n",
        "    double sum = thrust::reduce(google_device.begin(), google_device.end(), 0.0, thrust::plus<double>());\n",
        "\n",
        "    // Compute the mean\n",
        "    double mean = sum / n;\n",
        "\n",
        "    // Use transform_reduce to calculate the sum of squared differences in a single step\n",
        "    double sum_squared_diff = thrust::transform_reduce(google_device.begin(), google_device.end(),\n",
        "                                                       square_diff_from_mean(mean), 0.0, thrust::plus<double>());\n",
        "\n",
        "    // Calculate variance\n",
        "    double variance = sum_squared_diff / n;\n",
        "\n",
        "    auto end = std::chrono::high_resolution_clock::now();\n",
        "    std::chrono::duration<double> elapsed_time = end - start;\n",
        "\n",
        "    std::cout << \"Variance (using transform_reduce): \" << variance << std::endl;\n",
        "    std::cout << \"Elapsed time: \" << elapsed_time.count() << \" seconds\" << std::endl;\n",
        "\n",
        "    return 0;\n",
        "}\n"
      ],
      "metadata": {
        "colab": {
          "base_uri": "https://localhost:8080/"
        },
        "id": "j8WljP0OZQ4J",
        "outputId": "f4ef7972-30be-473d-b4a9-16875e37a5c4"
      },
      "execution_count": 13,
      "outputs": [
        {
          "output_type": "stream",
          "name": "stdout",
          "text": [
            "Writing variance_tr.cu\n"
          ]
        }
      ]
    },
    {
      "cell_type": "code",
      "source": [
        "!nvcc -arch=sm_70 -std=c++14 variance_tr.cu -o variance_tr"
      ],
      "metadata": {
        "id": "Mmlzu8LnZduT"
      },
      "execution_count": 14,
      "outputs": []
    },
    {
      "cell_type": "code",
      "source": [
        "!./variance_tr < random_vector.txt"
      ],
      "metadata": {
        "colab": {
          "base_uri": "https://localhost:8080/"
        },
        "id": "Hqkhw9sFZgvR",
        "outputId": "679066bd-9b3f-4503-8c86-e65af5e555f6"
      },
      "execution_count": 19,
      "outputs": [
        {
          "output_type": "stream",
          "name": "stdout",
          "text": [
            "Variance (using transform_reduce): 0.0833208\n",
            "Elapsed time: 0.00186854 seconds\n"
          ]
        }
      ]
    },
    {
      "cell_type": "code",
      "source": [
        "%%writefile variance_t_then_r.cu\n",
        "#include <thrust/device_vector.h>\n",
        "#include <thrust/host_vector.h>\n",
        "#include <thrust/transform.h>\n",
        "#include <thrust/reduce.h>\n",
        "#include <iostream>\n",
        "#include <chrono>\n",
        "\n",
        "// Functor to compute squared difference from mean\n",
        "struct square_diff_from_mean {\n",
        "    double mean;\n",
        "    square_diff_from_mean(double _mean) : mean(_mean) {}\n",
        "\n",
        "    __host__ __device__\n",
        "    double operator()(const double& x) const {\n",
        "        double diff = x - mean;\n",
        "        return diff * diff;\n",
        "    }\n",
        "};\n",
        "\n",
        "int main() {\n",
        "    const int n = 10000000;\n",
        "    double value = 0.0;\n",
        "\n",
        "    thrust::host_vector<double> google_host(n);\n",
        "    for (int i = 0; i < n; i++) {\n",
        "        std::cin >> value;\n",
        "        google_host[i] = value;\n",
        "    }\n",
        "\n",
        "    thrust::device_vector<double> google_device = google_host;\n",
        "    thrust::device_vector<double> squared_diff(n);\n",
        "\n",
        "    auto start = std::chrono::high_resolution_clock::now();\n",
        "\n",
        "    // Step 1: Calculate the sum of elements\n",
        "    double sum = thrust::reduce(google_device.begin(), google_device.end(), 0.0, thrust::plus<double>());\n",
        "\n",
        "    // Step 2: Compute the mean\n",
        "    double mean = sum / n;\n",
        "\n",
        "    // Step 3: Transform the elements by subtracting the mean and squaring the difference\n",
        "    thrust::transform(google_device.begin(), google_device.end(), squared_diff.begin(),\n",
        "                      square_diff_from_mean(mean));\n",
        "\n",
        "    // Step 4: Sum the squared differences\n",
        "    double sum_squared_diff = thrust::reduce(squared_diff.begin(), squared_diff.end(), 0.0, thrust::plus<double>());\n",
        "\n",
        "    // Step 5: Calculate the variance\n",
        "    double variance = sum_squared_diff / n;\n",
        "\n",
        "    auto end = std::chrono::high_resolution_clock::now();\n",
        "    std::chrono::duration<double> elapsed_time = end - start;\n",
        "\n",
        "    std::cout << \"Variance (using separate operations): \" << variance << std::endl;\n",
        "    std::cout << \"Elapsed time: \" << elapsed_time.count() << \" seconds\" << std::endl;\n",
        "\n",
        "    return 0;\n",
        "}"
      ],
      "metadata": {
        "colab": {
          "base_uri": "https://localhost:8080/"
        },
        "id": "Rt8qN1V8ZkXU",
        "outputId": "2d8871b4-609d-45b1-e4f9-3a6b4a3c355d"
      },
      "execution_count": 15,
      "outputs": [
        {
          "output_type": "stream",
          "name": "stdout",
          "text": [
            "Writing variance_t_then_r.cu\n"
          ]
        }
      ]
    },
    {
      "cell_type": "code",
      "source": [
        "!nvcc -arch=sm_70 -std=c++14 variance_t_then_r.cu -o variance_t_then_r"
      ],
      "metadata": {
        "id": "RHtcVxjZZqzk"
      },
      "execution_count": 17,
      "outputs": []
    },
    {
      "cell_type": "code",
      "source": [
        "!./variance_t_then_r < random_vector.txt"
      ],
      "metadata": {
        "colab": {
          "base_uri": "https://localhost:8080/"
        },
        "id": "PnXUzDCBZu6V",
        "outputId": "ea4363b7-b823-44aa-8f77-a91296e416e2"
      },
      "execution_count": 20,
      "outputs": [
        {
          "output_type": "stream",
          "name": "stdout",
          "text": [
            "Variance (using separate operations): 0.0833208\n",
            "Elapsed time: 0.00207674 seconds\n"
          ]
        }
      ]
    }
  ]
}